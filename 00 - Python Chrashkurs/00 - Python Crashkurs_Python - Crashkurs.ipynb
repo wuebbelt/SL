{
  "cells": [
    {
      "metadata": {},
      "cell_type": "markdown",
      "source": "# Python - Grundlagen\n\n"
    },
    {
      "metadata": {},
      "cell_type": "markdown",
      "source": "## Leertasten sind wichtig"
    },
    {
      "metadata": {
        "scrolled": true,
        "trusted": false
      },
      "cell_type": "code",
      "source": "listOfNumbers = [1, 2, 3, 4, 5, 6]\n\nfor number in listOfNumbers:\n    print(number)\n    if (number % 2 == 0):\n        print(\"ist gerade.\")\n    else:\n        print(\"ist ungerade.\")\n        \nprint(\"Fertig!\")",
      "execution_count": 1,
      "outputs": [
        {
          "name": "stdout",
          "output_type": "stream",
          "text": "1\nist ungerade.\n2\nist gerade.\n3\nist ungerade.\n4\nist gerade.\n5\nist ungerade.\n6\nist gerade.\nFertig!\n"
        }
      ]
    },
    {
      "metadata": {},
      "cell_type": "markdown",
      "source": "## Importieren von Modulen"
    },
    {
      "metadata": {
        "trusted": false
      },
      "cell_type": "code",
      "source": "import numpy as np\n\nA = np.random.normal(25.0, 5.0, 10)\nprint(A)",
      "execution_count": 41,
      "outputs": [
        {
          "name": "stdout",
          "output_type": "stream",
          "text": "[ 24.47286516  20.63376476  23.65201577  32.00575628  32.76857248\n  26.09122946  27.74212317  19.95350952  20.76251947  32.0446475 ]\n"
        }
      ]
    },
    {
      "metadata": {},
      "cell_type": "markdown",
      "source": "## Lists"
    },
    {
      "metadata": {
        "trusted": false
      },
      "cell_type": "code",
      "source": "x = [1, 2, 3, 4, 5, 6]\nprint(len(x))",
      "execution_count": 78,
      "outputs": [
        {
          "name": "stdout",
          "output_type": "stream",
          "text": "6\n"
        }
      ]
    },
    {
      "metadata": {
        "trusted": false
      },
      "cell_type": "code",
      "source": "x[:3]",
      "execution_count": 43,
      "outputs": [
        {
          "data": {
            "text/plain": "[1, 2, 3]"
          },
          "execution_count": 43,
          "metadata": {},
          "output_type": "execute_result"
        }
      ]
    },
    {
      "metadata": {
        "trusted": false
      },
      "cell_type": "code",
      "source": "x[3:]",
      "execution_count": 80,
      "outputs": [
        {
          "data": {
            "text/plain": "[4, 5, 6]"
          },
          "execution_count": 80,
          "metadata": {},
          "output_type": "execute_result"
        }
      ]
    },
    {
      "metadata": {
        "trusted": false
      },
      "cell_type": "code",
      "source": "x[-2:]",
      "execution_count": 45,
      "outputs": [
        {
          "data": {
            "text/plain": "[5, 6]"
          },
          "execution_count": 45,
          "metadata": {},
          "output_type": "execute_result"
        }
      ]
    },
    {
      "metadata": {
        "trusted": false
      },
      "cell_type": "code",
      "source": "x.extend([7,8])\nx",
      "execution_count": 46,
      "outputs": [
        {
          "data": {
            "text/plain": "[1, 2, 3, 4, 5, 6, 7, 8]"
          },
          "execution_count": 46,
          "metadata": {},
          "output_type": "execute_result"
        }
      ]
    },
    {
      "metadata": {
        "trusted": false
      },
      "cell_type": "code",
      "source": "x.append(9)\nx",
      "execution_count": 47,
      "outputs": [
        {
          "data": {
            "text/plain": "[1, 2, 3, 4, 5, 6, 7, 8, 9]"
          },
          "execution_count": 47,
          "metadata": {},
          "output_type": "execute_result"
        }
      ]
    },
    {
      "metadata": {
        "trusted": false
      },
      "cell_type": "code",
      "source": "y = [10, 11, 12]\nlistOfLists = [x, y]\nlistOfLists",
      "execution_count": 48,
      "outputs": [
        {
          "data": {
            "text/plain": "[[1, 2, 3, 4, 5, 6, 7, 8, 9], [10, 11, 12]]"
          },
          "execution_count": 48,
          "metadata": {},
          "output_type": "execute_result"
        }
      ]
    },
    {
      "metadata": {
        "trusted": false
      },
      "cell_type": "code",
      "source": "y[1]",
      "execution_count": 49,
      "outputs": [
        {
          "data": {
            "text/plain": "11"
          },
          "execution_count": 49,
          "metadata": {},
          "output_type": "execute_result"
        }
      ]
    },
    {
      "metadata": {
        "trusted": false
      },
      "cell_type": "code",
      "source": "z = [3, 2, 1]\nz.sort()\nz",
      "execution_count": 50,
      "outputs": [
        {
          "data": {
            "text/plain": "[1, 2, 3]"
          },
          "execution_count": 50,
          "metadata": {},
          "output_type": "execute_result"
        }
      ]
    },
    {
      "metadata": {
        "trusted": false
      },
      "cell_type": "code",
      "source": "z.sort(reverse=True)\nz",
      "execution_count": 51,
      "outputs": [
        {
          "data": {
            "text/plain": "[3, 2, 1]"
          },
          "execution_count": 51,
          "metadata": {},
          "output_type": "execute_result"
        }
      ]
    },
    {
      "metadata": {},
      "cell_type": "markdown",
      "source": "## Tupel"
    },
    {
      "metadata": {
        "trusted": false
      },
      "cell_type": "code",
      "source": "# Tupel sind unveränderliche Listen. Für ein Tupel wird () statt [] verwendet.\nx = (1, 2, 3)\nlen(x)",
      "execution_count": 52,
      "outputs": [
        {
          "data": {
            "text/plain": "3"
          },
          "execution_count": 52,
          "metadata": {},
          "output_type": "execute_result"
        }
      ]
    },
    {
      "metadata": {
        "trusted": false
      },
      "cell_type": "code",
      "source": "y = (4, 5, 6)\ny[2]",
      "execution_count": 53,
      "outputs": [
        {
          "data": {
            "text/plain": "6"
          },
          "execution_count": 53,
          "metadata": {},
          "output_type": "execute_result"
        }
      ]
    },
    {
      "metadata": {
        "trusted": false
      },
      "cell_type": "code",
      "source": "listOfTuples = [x, y]\nlistOfTuples",
      "execution_count": 54,
      "outputs": [
        {
          "data": {
            "text/plain": "[(1, 2, 3), (4, 5, 6)]"
          },
          "execution_count": 54,
          "metadata": {},
          "output_type": "execute_result"
        }
      ]
    },
    {
      "metadata": {
        "trusted": false
      },
      "cell_type": "code",
      "source": "(age, income) = \"32,120000\".split(',')\nprint(age)\nprint(income)",
      "execution_count": 83,
      "outputs": [
        {
          "name": "stdout",
          "output_type": "stream",
          "text": "32\n120000\n"
        }
      ]
    },
    {
      "metadata": {},
      "cell_type": "markdown",
      "source": "## Dictionaries"
    },
    {
      "metadata": {
        "trusted": false
      },
      "cell_type": "code",
      "source": "# Verhält sich ähnlich wie eine HashMap / Map in anderen Programmiersprachen\n# (bzw. ein assoziatives Array in PHP)\ncaptains = {}\ncaptains[\"Enterprise\"] = \"Kirk\"\ncaptains[\"Enterprise D\"] = \"Picard\"\ncaptains[\"Deep Space Nine\"] = \"Sisko\"\ncaptains[\"Voyager\"] = \"Janeway\"\n\nprint(captains)\n\nprint(captains[\"Voyager\"])",
      "execution_count": 84,
      "outputs": [
        {
          "name": "stdout",
          "output_type": "stream",
          "text": "{'Voyager': 'Janeway', 'Deep Space Nine': 'Sisko', 'Enterprise': 'Kirk', 'Enterprise D': 'Picard'}\nJaneway\n"
        }
      ]
    },
    {
      "metadata": {
        "trusted": false
      },
      "cell_type": "code",
      "source": "print(captains.get(\"Enterprise\"))",
      "execution_count": 87,
      "outputs": [
        {
          "name": "stdout",
          "output_type": "stream",
          "text": "Kirk\n"
        }
      ]
    },
    {
      "metadata": {
        "trusted": false
      },
      "cell_type": "code",
      "source": "print(captains.get(\"NX-01\"))",
      "execution_count": 58,
      "outputs": [
        {
          "name": "stdout",
          "output_type": "stream",
          "text": "None\n"
        }
      ]
    },
    {
      "metadata": {
        "trusted": false
      },
      "cell_type": "code",
      "source": "for ship in captains:\n    print(ship + \": \" + captains[ship])",
      "execution_count": 59,
      "outputs": [
        {
          "name": "stdout",
          "output_type": "stream",
          "text": "Voyager: Janeway\nDeep Space Nine: Sisko\nEnterprise: Kirk\nEnterprise D: Picard\n"
        }
      ]
    },
    {
      "metadata": {},
      "cell_type": "markdown",
      "source": "## Funktionen"
    },
    {
      "metadata": {
        "trusted": false
      },
      "cell_type": "code",
      "source": "def squareIt(x):\n    return x * x\n\nprint(squareIt(2))\n",
      "execution_count": 60,
      "outputs": [
        {
          "name": "stdout",
          "output_type": "stream",
          "text": "4\n"
        }
      ]
    },
    {
      "metadata": {
        "trusted": false
      },
      "cell_type": "code",
      "source": "# Man kann Funktionen als Parameter übergeben\ndef doSomething(f, x):\n    return f(x)\n\nprint(doSomething(squareIt, 3))",
      "execution_count": 61,
      "outputs": [
        {
          "name": "stdout",
          "output_type": "stream",
          "text": "9\n"
        }
      ]
    },
    {
      "metadata": {
        "trusted": false
      },
      "cell_type": "code",
      "source": "# Mit Hilfe von Lambda-Funktionen können Funktionen direkt\n# als Parameter übergeben werden\nprint(doSomething(lambda x: x * x * x, 3))",
      "execution_count": 62,
      "outputs": [
        {
          "name": "stdout",
          "output_type": "stream",
          "text": "27\n"
        }
      ]
    },
    {
      "metadata": {},
      "cell_type": "markdown",
      "source": "## Bool'sche Ausdrücke"
    },
    {
      "metadata": {
        "trusted": false
      },
      "cell_type": "code",
      "source": "print(1 == 3)",
      "execution_count": 63,
      "outputs": [
        {
          "name": "stdout",
          "output_type": "stream",
          "text": "False\n"
        }
      ]
    },
    {
      "metadata": {
        "trusted": false
      },
      "cell_type": "code",
      "source": "print(True or False)",
      "execution_count": 64,
      "outputs": [
        {
          "name": "stdout",
          "output_type": "stream",
          "text": "True\n"
        }
      ]
    },
    {
      "metadata": {
        "trusted": false
      },
      "cell_type": "code",
      "source": "print(1 is 3)",
      "execution_count": 65,
      "outputs": [
        {
          "name": "stdout",
          "output_type": "stream",
          "text": "False\n"
        }
      ]
    },
    {
      "metadata": {
        "trusted": false
      },
      "cell_type": "code",
      "source": "if 1 is 3:\n    print(\"Wie kann das sein?\")\nelif 1 > 3:\n    print(\"Komisch...\")\nelse:\n    print(\"Die Welt ist noch in Ordnung...\")",
      "execution_count": 66,
      "outputs": [
        {
          "name": "stdout",
          "output_type": "stream",
          "text": "Die Welt ist noch in Ordnung...\n"
        }
      ]
    },
    {
      "metadata": {},
      "cell_type": "markdown",
      "source": "## Schleifen"
    },
    {
      "metadata": {
        "trusted": false
      },
      "cell_type": "code",
      "source": "for x in range(10):\n    print(x)",
      "execution_count": 67,
      "outputs": [
        {
          "name": "stdout",
          "output_type": "stream",
          "text": "0\n1\n2\n3\n4\n5\n6\n7\n8\n9\n"
        }
      ]
    },
    {
      "metadata": {
        "trusted": false
      },
      "cell_type": "code",
      "source": "for x in range(10):\n    if (x is 1):\n        continue\n    if (x > 5):\n        break\n    print(x)",
      "execution_count": 68,
      "outputs": [
        {
          "name": "stdout",
          "output_type": "stream",
          "text": "0\n2\n3\n4\n5\n"
        }
      ]
    },
    {
      "metadata": {
        "trusted": false
      },
      "cell_type": "code",
      "source": "x = 0\nwhile (x < 10):\n    print(x)\n    x += 1",
      "execution_count": 69,
      "outputs": [
        {
          "name": "stdout",
          "output_type": "stream",
          "text": "0\n1\n2\n3\n4\n5\n6\n7\n8\n9\n"
        }
      ]
    },
    {
      "metadata": {},
      "cell_type": "markdown",
      "source": "## Aufgabe"
    },
    {
      "metadata": {},
      "cell_type": "markdown",
      "source": "Schreibe ein Programm, welches eine Liste von Zahlen erstellt. Gebe dann mit Hilfe einer Schleife nur die geraden Zahlen aus!"
    },
    {
      "metadata": {
        "collapsed": true,
        "trusted": false
      },
      "cell_type": "code",
      "source": "",
      "execution_count": null,
      "outputs": []
    }
  ],
  "metadata": {
    "kernelspec": {
      "name": "python3",
      "display_name": "Python 3",
      "language": "python"
    },
    "language_info": {
      "mimetype": "text/x-python",
      "nbconvert_exporter": "python",
      "name": "python",
      "file_extension": ".py",
      "version": "3.5.4",
      "pygments_lexer": "ipython3",
      "codemirror_mode": {
        "version": 3,
        "name": "ipython"
      }
    }
  },
  "nbformat": 4,
  "nbformat_minor": 1
}